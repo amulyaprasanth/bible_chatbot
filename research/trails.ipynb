{
 "cells": [
  {
   "cell_type": "markdown",
   "id": "d8dd3594",
   "metadata": {},
   "source": [
    "# Bible ChatBot"
   ]
  },
  {
   "cell_type": "code",
   "execution_count": 1,
   "id": "f38e31c8",
   "metadata": {},
   "outputs": [],
   "source": [
    "# load environment variables\n",
    "from dotenv import load_dotenv\n",
    "import os\n",
    "\n",
    "load_dotenv()\n",
    "GROQ_API_KEY = os.getenv(\"GROQ_API_KEY\")\n"
   ]
  },
  {
   "cell_type": "markdown",
   "id": "cf28bb92",
   "metadata": {},
   "source": [
    "## Loading Data"
   ]
  },
  {
   "cell_type": "code",
   "execution_count": 2,
   "id": "ff066c30",
   "metadata": {},
   "outputs": [
    {
     "name": "stderr",
     "output_type": "stream",
     "text": [
      "/home/prasanth/projects/Bible Chatbot/venv/lib/python3.12/site-packages/tqdm/auto.py:21: TqdmWarning: IProgress not found. Please update jupyter and ipywidgets. See https://ipywidgets.readthedocs.io/en/stable/user_install.html\n",
      "  from .autonotebook import tqdm as notebook_tqdm\n"
     ]
    }
   ],
   "source": [
    "from langchain_community.document_loaders import PyPDFLoader\n",
    "\n",
    "# Import the document loader from loading in pdf file\n",
    "data_path = \"../data/whole_bible_niv1984.pdf\"\n",
    "\n",
    "# setup loader\n",
    "loader = PyPDFLoader(data_path)\n",
    "\n",
    "# convert to documents\n",
    "docs = loader.load()"
   ]
  },
  {
   "cell_type": "code",
   "execution_count": 3,
   "id": "c982936d",
   "metadata": {},
   "outputs": [
    {
     "data": {
      "text/plain": [
       "[Document(metadata={'producer': '3-Heights(TM) PDF Optimization Shell 4.8.25.2 (http://www.pdf-tools.com)', 'creator': 'Microsoft® Word 2013', 'creationdate': '2018-06-28T21:57:28-07:00', 'title': 'Holy Bible - New International Version', 'author': 'Biiible', 'moddate': '2018-06-28T14:14:01+00:00', 'source': '../data/whole_bible_niv1984.pdf', 'total_pages': 1871, 'page': 0, 'page_label': '1'}, page_content='1 \\n \\n  \\nHoly Bible \\nNew International Version \\n \\n \\n \\n \\n \\n \\n \\n \\nAbout the New International Version –  \\nThe New International Version was undertaken by an independent \\ncommittee in after a general consensus that there was a need for a \\nnew, contemporary English translation of the Bible. \\n \\nWith the help of scholars from all over the world, and multiple reviews \\nfrom a committee of multiple denominations, the New International \\nVersion has earned the widespread respect of all Christians as one of \\nthe best translations available.'),\n",
       " Document(metadata={'producer': '3-Heights(TM) PDF Optimization Shell 4.8.25.2 (http://www.pdf-tools.com)', 'creator': 'Microsoft® Word 2013', 'creationdate': '2018-06-28T21:57:28-07:00', 'title': 'Holy Bible - New International Version', 'author': 'Biiible', 'moddate': '2018-06-28T14:14:01+00:00', 'source': '../data/whole_bible_niv1984.pdf', 'total_pages': 1871, 'page': 1, 'page_label': '2'}, page_content='2 \\n \\nOld Testament \\nGenesis \\nExodus \\nLeviticus \\nNumbers \\nDeuteronomy \\nJoshua \\nJudges \\nRuth \\n1st Samuel \\n2nd Samuel \\n1st Kings \\n2nd Kings \\n1st Chronicles \\n2nd Chronicles \\nEzra \\nNehemiah \\nEsther \\nJob \\nPsalms \\nProverbs \\nEcclesiastes \\nSong of Solomon \\nIsaiah \\nJeremiah \\nLamentations \\nEzekiel \\nDaniel \\nHosea \\nJoel \\nAmos \\nObadiah \\nJonah \\nMicah \\nNahum \\nHabakkuk \\nZephaniah \\nHaggai \\nZechariah \\nMalachi \\nNew Testament \\nMatthew \\nMark \\nLuke \\nJohn \\nActs \\nRomans \\n1st Corinthians \\n2nd Corinthians \\nGalatians \\nEphesians \\nPhilippians \\nColossians \\n1st Thessalonians \\n2nd Thessalonians \\n1st Timothy \\n2nd Timothy \\nTitus \\nPhilemon \\nHebrews \\nJames \\n1st Peter \\n2nd Peter \\n1st John \\n2nd John \\n3rd John \\nJude \\nRevelation'),\n",
       " Document(metadata={'producer': '3-Heights(TM) PDF Optimization Shell 4.8.25.2 (http://www.pdf-tools.com)', 'creator': 'Microsoft® Word 2013', 'creationdate': '2018-06-28T21:57:28-07:00', 'title': 'Holy Bible - New International Version', 'author': 'Biiible', 'moddate': '2018-06-28T14:14:01+00:00', 'source': '../data/whole_bible_niv1984.pdf', 'total_pages': 1871, 'page': 2, 'page_label': '3'}, page_content='3 \\n \\nGenesis \\n1In the beginning God created the  \\nheavens and the earth.  \\n2Now the earth was formless and empty, \\ndarkness was ove r the surface of the \\ndeep, and the Spirit of God was \\nhovering over the waters.  \\n3And God said, \"Let there be light,\" and \\nthere was light.  \\n4God saw that the light was good, and \\nhe separated the light from the darkness.  \\n5God called the light \"day,\" and the  \\ndarkness he called \"night.\" And there \\nwas evening, and there was morning -\\nthe first day.  \\n6And God said, \"Let there be an \\nexpanse between the waters to \\nseparate water from water.\"  \\n7So God made the expanse and \\nseparated the water under the expanse \\nfrom the water above it. And it was so.  \\n8God called the expanse \"sky.\" And \\nthere was evening, and there was \\nmorning-the second day.  \\n9And God said, \"Let the water under the \\nsky be gathered to one place, and let \\ndry ground appear.\" And it was so.  \\n10God called the  dry ground \"land,\" and \\nthe gathered waters he called \"seas.\" \\nAnd God saw that it was good.  \\n11Then God said, \"Let the land produce \\nvegetation: seed -bearing plants and \\ntrees on the land that bear fruit with \\nseed in it, according to their various \\nkinds.\" And it was so.  \\n12The land produced vegetation: plants \\nbearing seed according to their kinds \\nand trees bearing fruit with seed in it \\naccording to their kinds. And God saw \\nthat it was good.  \\n13And there was evening, and there was \\nmorning-the third day.  \\n14And God said, \"Let there be lights in \\nthe expanse of the sky to separate the \\nday from the night, and let them serve \\nas signs to mark seasons and days and \\nyears,  \\n15and let them be lights in the expanse \\nof the sky to give light on the earth.\" And \\nit was so.  \\n16God made two great lights -the greater \\nlight to govern the day and the lesser \\nlight to govern the night. He also made \\nthe stars.  \\n17God set them in the expanse of the \\nsky to give light on the earth,  \\n18to govern the day and the night, and to \\nseparate light  from darkness. And God \\nsaw that it was good.'),\n",
       " Document(metadata={'producer': '3-Heights(TM) PDF Optimization Shell 4.8.25.2 (http://www.pdf-tools.com)', 'creator': 'Microsoft® Word 2013', 'creationdate': '2018-06-28T21:57:28-07:00', 'title': 'Holy Bible - New International Version', 'author': 'Biiible', 'moddate': '2018-06-28T14:14:01+00:00', 'source': '../data/whole_bible_niv1984.pdf', 'total_pages': 1871, 'page': 3, 'page_label': '4'}, page_content='4 \\n \\n19And there was evening, and there was \\nmorning-the fourth day.  \\n20And God said, \"Let the water teem \\nwith living creatures, and let birds fly \\nabove the earth across the expanse of \\nthe sky.\"  \\n21So God created th e great creatures of \\nthe sea and every living and moving \\nthing with which the water teems, \\naccording to their kinds, and every \\nwinged bird according to its kind. And \\nGod saw that it was good.  \\n22God blessed them and said, \"Be \\nfruitful and increase in numbe r and fill \\nthe water in the seas, and let the birds \\nincrease on the earth.\"  \\n23And there was evening, and there was \\nmorning-the fifth day.  \\n24And God said, \"Let the land produce \\nliving creatures according to their kinds: \\nlivestock, creatures that move alon g the \\nground, and wild animals, each \\naccording to its kind.\" And it was so.  \\n25God made the wild animals according \\nto their kinds, the livestock according to \\ntheir kinds, and all the creatures that \\nmove along the ground according to \\ntheir kinds. And God sa w that it was \\ngood.  \\n26Then God said, \"Let us make man in \\nour image, in our likeness, and let them \\nrule over the fish of the sea and the \\nbirds of the air, over the livestock, over \\nall the earth, and over all the creatures \\nthat move along the ground.\"  \\n27So God created man in his own image, \\nin the image of God he created him; \\nmale and female he created them.  \\n28God blessed them and said to them, \\n\"Be fruitful and increase in number; fill \\nthe earth and subdue it. Rule over the \\nfish of the sea and the birds of the air \\nand over every living creature that \\nmoves on the ground.\"  \\n29Then God said, \"I give you every seed-\\nbearing plant on the face of the whole \\nearth and every tree that has fruit with \\nseed in it. They will be yours for food.  \\n30And to all the beasts of the earth and \\nall the birds of the air and all the \\ncreatures that move on the ground -\\neverything that has the breath of life in \\nit-I give every green plant for food.\" And \\nit was so.  \\n31God saw all that he had made, and it \\nwas very good. And there was evenin g, \\nand there was morning-the sixth day.  \\n2Thus the heavens and the earth were \\ncompleted in all their vast array.  \\n2By the seventh day God had finished \\nthe work he had been doing; so on the \\nseventh day he rested from all his work.  \\n3And God blessed the seve nth day and \\nmade it holy, because on it he rested \\nfrom all the work of creating that he had \\ndone.  \\n4This is the account of the heavens and \\nthe earth when they were created.'),\n",
       " Document(metadata={'producer': '3-Heights(TM) PDF Optimization Shell 4.8.25.2 (http://www.pdf-tools.com)', 'creator': 'Microsoft® Word 2013', 'creationdate': '2018-06-28T21:57:28-07:00', 'title': 'Holy Bible - New International Version', 'author': 'Biiible', 'moddate': '2018-06-28T14:14:01+00:00', 'source': '../data/whole_bible_niv1984.pdf', 'total_pages': 1871, 'page': 4, 'page_label': '5'}, page_content='5 \\n \\nWhen the Lord God made the earth and \\nthe heavens-  \\n5and no shrub of the field had y et \\nappeared on the earth and no plant of \\nthe field had yet sprung up, for the Lord \\nGod had not sent rain on the earth and \\nthere was no man to work the ground,  \\n6but streams came up from the earth \\nand watered the whole surface of the \\nground-  \\n7the Lord God formed the man from the \\ndust of the ground and breathed into his \\nnostrils the breath of life, and the man \\nbecame a living being.  \\n8Now the Lord God had planted a \\ngarden in the east, in Eden; and there \\nhe put the man he had formed.  \\n9And the Lord God made a ll kinds of \\ntrees grow out of the ground -trees that \\nwere pleasing to the eye and good for \\nfood. In the middle of the garden were \\nthe tree of life and the tree of the \\nknowledge of good and evil.  \\n10A river watering the garden flowed \\nfrom Eden; from there it  was separated \\ninto four headwaters.  \\n11The name of the first is the Pishon; it \\nwinds through the entire land of Havilah, \\nwhere there is gold.  \\n12(The gold of that land is good; \\naromatic resin and onyx are also there.)  \\n13The name of the second river is th e \\nGihon; it winds through the entire land of \\nCush.  \\n14The name of the third river is the \\nTigris; it runs along the east side of \\nAsshur. And the fourth river is the \\nEuphrates.  \\n15The Lord God took the man and put \\nhim in the Garden of Eden to work it and \\ntake care of it.  \\n16And the Lord God commanded the \\nman, \"You are free to eat from any tree \\nin the garden;  \\n17but you must not eat from the tree of \\nthe knowledge of good and evil, for \\nwhen you eat of it you will surely die.\"  \\n18The Lord God said, \"It is not go od for \\nthe man to be alone. I will make a helper \\nsuitable for him.\"  \\n19Now the Lord God had formed out of \\nthe ground all the beasts of the field and \\nall the birds of the air. He brought them \\nto the man to see what he would name \\nthem; and whatever the man c alled \\neach living creature, that was its name.  \\n20So the man gave names to all the \\nlivestock, the birds of the air and all the \\nbeasts of the field. But for Adam no \\nsuitable helper was found.  \\n21So the Lord God caused the man to \\nfall into a deep sleep; and while he was \\nsleeping, he took one of the man\\'s ribs \\nand closed up the place with flesh.  \\n22Then the Lord God made a woman \\nfrom the rib he had taken out of the man, \\nand he brought her to the man.'),\n",
       " Document(metadata={'producer': '3-Heights(TM) PDF Optimization Shell 4.8.25.2 (http://www.pdf-tools.com)', 'creator': 'Microsoft® Word 2013', 'creationdate': '2018-06-28T21:57:28-07:00', 'title': 'Holy Bible - New International Version', 'author': 'Biiible', 'moddate': '2018-06-28T14:14:01+00:00', 'source': '../data/whole_bible_niv1984.pdf', 'total_pages': 1871, 'page': 5, 'page_label': '6'}, page_content='6 \\n \\n23The man said, \"This is now bone of my \\nbones and flesh of my flesh; she shall \\nbe called \\'woman, \\' for she was taken \\nout of man.\"  \\n24For this reason a man will leave his \\nfather and mother and be united to his \\nwife, and they will become one flesh.  \\n25The man and his wife were both naked, \\nand they felt no shame.  \\n3Now the serpent was more crafty \\nthan any of the wild animals the Lord \\nGod had made. He said to the woman, \\n\"Did God really say, \\'You must not eat \\nfrom any tree in the garden\\'?\"  \\n2The woman said to the serpent, \"We \\nmay eat fruit from the trees in the \\ngarden,  \\n3but God did say, \\'You must not eat fruit \\nfrom the tree that is in the middle of the \\ngarden, and you must not touch it, or \\nyou will die.\\' \"  \\n4\"You will not surely die,\" the serpent \\nsaid to the woman.  \\n5\"For God knows that when you eat of it \\nyour eyes will  be opened, and you will \\nbe like God, knowing good and evil.\"  \\n6When the woman saw that the fruit of \\nthe tree was good for food and pleasing \\nto the eye, and also desirable for \\ngaining wisdom, she took some and ate \\nit. She also gave some to her husband, \\nwho was with her, and he ate it.  \\n7Then the eyes of both of them were \\nopened, and they realized they were \\nnaked; so they sewed fig leaves \\ntogether and made coverings for \\nthemselves.  \\n8Then the man and his wife heard the \\nsound of the Lord God as he was \\nwalking in the garden in the cool of the \\nday, and they hid from the Lord God \\namong the trees of the garden.  \\n9But the Lord God called to the man, \\n\"Where are you?\"  \\n10He answered, \"I heard you in the \\ngarden, and I was afraid because I was \\nnaked; so I hid.\"  \\n11And he said, \"Who told you that you \\nwere naked? Have you eaten from the \\ntree that I commanded you not to eat \\nfrom?\"  \\n12The man said, \"The woman you put \\nhere with me -she gave me some fruit \\nfrom the tree, and I ate it.\"  \\n13Then the Lord God said to the woman, \\n\"What is this you have done?\" The \\nwoman said, \"The serpent deceived me, \\nand I ate.\"  \\n14So the Lord God said to the serpent, \\n\"Because you have done this, \"Cursed \\nare you above all the livestock and all \\nthe wild animals! You will crawl on your \\nbelly and you will eat dust all the days of \\nyour life.  \\n15And I will put enmity between you and \\nthe woman, and between your offspring'),\n",
       " Document(metadata={'producer': '3-Heights(TM) PDF Optimization Shell 4.8.25.2 (http://www.pdf-tools.com)', 'creator': 'Microsoft® Word 2013', 'creationdate': '2018-06-28T21:57:28-07:00', 'title': 'Holy Bible - New International Version', 'author': 'Biiible', 'moddate': '2018-06-28T14:14:01+00:00', 'source': '../data/whole_bible_niv1984.pdf', 'total_pages': 1871, 'page': 6, 'page_label': '7'}, page_content='7 \\n \\nand hers; he will crush your head, and \\nyou will strike his heel.\"  \\n16To the woman he said, \"I will greatly \\nincrease your pains in childbea ring; with \\npain you will give birth to children. Your \\ndesire will be for your husband, and he \\nwill rule over you.\"  \\n17To Adam he said, \"Because you \\nlistened to your wife and ate from the \\ntree about which I commanded you, \\n\\'You must not eat of it,\\' \"Cursed i s the \\nground because of you; through painful \\ntoil you will eat of it all the days of your \\nlife.  \\n18It will produce thorns and thistles for \\nyou, and you will eat the plants of the \\nfield.  \\n19By the sweat of your brow you will eat \\nyour food until you return t o the ground, \\nsince from it you were taken; for dust \\nyou are and to dust you will return.\"  \\n20Adam named his wife Eve, because \\nshe would become the mother of all the \\nliving.  \\n21The Lord God made garments of skin \\nfor Adam and his wife and clothed them.  \\n22And the Lord God said, \"The man has \\nnow become like one of us, knowing \\ngood and evil. He must not be allowed \\nto reach out his hand and take also from \\nthe tree of life and eat, and live forever.\"  \\n23So the Lord God banished him from \\nthe Garden of Eden to wor k the ground \\nfrom which he had been taken.  \\n24After he drove the man out, he placed \\non the east side of the Garden of Eden \\ncherubim and a flaming sword flashing \\nback and forth to guard the way to the \\ntree of life.  \\n4Adam lay with his wife Eve, and she \\nbecame pregnant and gave birth to Cain. \\nShe said, \"With the help of the Lord I \\nhave brought forth a man.\"  \\n2Later she gave birth to his brother Abel. \\nNow Abel kept flocks, and Cain worked \\nthe soil.  \\n3In the course of time Cain brought \\nsome of the fruits of the  soil as an \\noffering to the Lord .  \\n4But Abel brought fat portions from \\nsome of the firstborn of his flock. The \\nLord looked with favor on Abel and his \\noffering,  \\n5but on Cain and his offering he did not \\nlook with favor. So Cain was very angry, \\nand his face was downcast.  \\n6Then the Lord said to Cain, \"Why are \\nyou angry? Why is your face downcast?  \\n7If you do what is right, will you not be \\naccepted? But if you do not do what is \\nright, sin is crouching at your door; it \\ndesires to have you, but you must \\nmaster it.\"  \\n8Now Cain said to his brother Abel, \\n\"Let\\'s go out to the field.\" And while they \\nwere in the field, Cain attacked his \\nbrother Abel and killed him.'),\n",
       " Document(metadata={'producer': '3-Heights(TM) PDF Optimization Shell 4.8.25.2 (http://www.pdf-tools.com)', 'creator': 'Microsoft® Word 2013', 'creationdate': '2018-06-28T21:57:28-07:00', 'title': 'Holy Bible - New International Version', 'author': 'Biiible', 'moddate': '2018-06-28T14:14:01+00:00', 'source': '../data/whole_bible_niv1984.pdf', 'total_pages': 1871, 'page': 7, 'page_label': '8'}, page_content='8 \\n \\n9Then the Lord said to Cain, \"Where is \\nyour brother Abel?\" \"I don\\'t know,\" he \\nreplied. \"Am I my brother\\'s keeper?\"  \\n10The Lord said, \"What have you done? \\nListen! Your brother\\'s blood cries out to \\nme from the ground.  \\n11Now you are under a curse and driven \\nfrom the ground, which opened its \\nmouth to receive your brother\\'s blood \\nfrom your hand.  \\n12When you wor k the ground, it will no \\nlonger yield its crops for you. You will be \\na restless wanderer on the earth.\"  \\n13Cain said to the Lord , \"My punishment \\nis more than I can bear.  \\n14Today you are driving me from the \\nland, and I will be hidden from your \\npresence; I  will be a restless wanderer \\non the earth, and whoever finds me will \\nkill me.\"  \\n15But the Lord said to him, \"Not so ; if \\nanyone kills Cain, he will suffer \\nvengeance seven times over.\" Then the \\nLord put a mark on Cain so that no one \\nwho found him would kill him.  \\n16So Cain went out from the Lord \\'s \\npresence and lived in the land of Nod, \\neast of Eden.  \\n17Cain lay with his wife, and she became \\npregnant and gave birth to Enoch. Cain \\nwas then building a city, and he named \\nit after his son Enoch.  \\n18To Enoch was born Irad, and Irad was \\nthe father of Mehujael, and Mehujael \\nwas the father of Methushael, and \\nMethushael was the father of Lamech.  \\n19Lamech married two women, one \\nnamed Adah and the other Zillah.  \\n20Adah gave birth to Jabal; he was the \\nfather of those wh o live in tents and \\nraise livestock.  \\n21His brother\\'s name was Jubal; he was \\nthe father of all who play the harp and \\nflute.  \\n22Zillah also had a son, Tubal -Cain, who \\nforged all kinds of tools out of bronze \\nand iron. Tubal -Cain\\'s sister was \\nNaamah.  \\n23Lamech said to his wives, \"Adah and \\nZillah, listen to me; wives of Lamech, \\nhear my words. I have killed a man for \\nwounding me, a young man for injuring \\nme.  \\n24If Cain is avenged seven times, then \\nLamech seventy-seven times.\"  \\n25Adam lay with his wife again, and  she \\ngave birth to a son and named him Seth, \\nsaying, \"God has granted me another \\nchild in place of Abel, since Cain killed \\nhim.\"  \\n26Seth also had a son, and he named \\nhim Enosh. At that time men began to \\ncall on the name of the Lord .  \\n5This is the written account of Adam\\'s \\nline. When God created man, he made \\nhim in the likeness of God.'),\n",
       " Document(metadata={'producer': '3-Heights(TM) PDF Optimization Shell 4.8.25.2 (http://www.pdf-tools.com)', 'creator': 'Microsoft® Word 2013', 'creationdate': '2018-06-28T21:57:28-07:00', 'title': 'Holy Bible - New International Version', 'author': 'Biiible', 'moddate': '2018-06-28T14:14:01+00:00', 'source': '../data/whole_bible_niv1984.pdf', 'total_pages': 1871, 'page': 8, 'page_label': '9'}, page_content='9 \\n \\n2He created them male and female and \\nblessed them. And when they were \\ncreated, he called them \"man. \"  \\n3When Adam had lived 130 years, he \\nhad a son in his own likeness, in h is \\nown image; and he named him Seth.  \\n4After Seth was born, Adam lived 800 \\nyears and had other sons and daughters.  \\n5Altogether, Adam lived 930 years, and \\nthen he died.  \\n6When Seth had lived 105 years, he \\nbecame the father of Enosh.  \\n7And after he became t he father of \\nEnosh, Seth lived 807 years and had \\nother sons and daughters.  \\n8Altogether, Seth lived 912 years, and \\nthen he died.  \\n9When Enosh had lived 90 years, he \\nbecame the father of Kenan.  \\n10And after he became the father of \\nKenan, Enosh lived 815 yea rs and had \\nother sons and daughters.  \\n11Altogether, Enosh lived 905 years, and \\nthen he died.  \\n12When Kenan had lived 70 years, he \\nbecame the father of Mahalalel.  \\n13And after he became the father of \\nMahalalel, Kenan lived 840 years and \\nhad other sons and daughters.  \\n14Altogether, Kenan lived 910 years, and \\nthen he died.  \\n15When Mahalalel had lived 65 years, he \\nbecame the father of Jared.  \\n16And after he became the father of \\nJared, Mahalalel lived 830 years and \\nhad other sons and daughters.  \\n17Altogether, Ma halalel lived 895 years, \\nand then he died.  \\n18When Jared had lived 162 years, he \\nbecame the father of Enoch.  \\n19And after he became the father of \\nEnoch, Jared lived 800 years and had \\nother sons and daughters.  \\n20Altogether, Jared lived 962 years, and \\nthen he died.  \\n21When Enoch had lived 65 years, he \\nbecame the father of Methuselah.  \\n22And after he became the father of \\nMethuselah, Enoch walked with God \\n300 years and had other sons and \\ndaughters.  \\n23Altogether, Enoch lived 365 years.  \\n24Enoch walked with God ; then he was \\nno more, because God took him away.  \\n25When Methuselah had lived 187 years, \\nhe became the father of Lamech.  \\n26And after he became the father of \\nLamech, Methuselah lived 782 years \\nand had other sons and daughters.'),\n",
       " Document(metadata={'producer': '3-Heights(TM) PDF Optimization Shell 4.8.25.2 (http://www.pdf-tools.com)', 'creator': 'Microsoft® Word 2013', 'creationdate': '2018-06-28T21:57:28-07:00', 'title': 'Holy Bible - New International Version', 'author': 'Biiible', 'moddate': '2018-06-28T14:14:01+00:00', 'source': '../data/whole_bible_niv1984.pdf', 'total_pages': 1871, 'page': 9, 'page_label': '10'}, page_content='10 \\n \\n27Altogether, Methuselah li ved 969 \\nyears, and then he died.  \\n28When Lamech had lived 182 years, he \\nhad a son.  \\n29He named him Noah and said, \"He will \\ncomfort us in the labor and painful toil of \\nour hands caused by the ground the \\nLord has cursed.\"  \\n30After Noah was born, Lamech lived  \\n595 years and had other sons and \\ndaughters.  \\n31Altogether, Lamech lived 777 years, \\nand then he died.  \\n32After Noah was 500 years old, he \\nbecame the father of Shem, Ham and \\nJapheth.  \\n6When men began to increase in \\nnumber on the earth and daughters \\nwere born to them,  \\n2the sons of God saw that the daughters \\nof men were beautiful, and they married \\nany of them they chose.  \\n3Then the Lord said, \"My Spirit will not \\ncontend with man forever, for he is \\nmortal ; his days will be a hundred and \\ntwenty years.\"  \\n4The N ephilim were on the earth in \\nthose days-and also afterward-when the \\nsons of God went to the daughters of \\nmen and had children by them. They \\nwere the heroes of old, men of renown.  \\n5The Lord saw how great man\\'s \\nwickedness on the earth had become, \\nand that every inclination of the thoughts \\nof his heart was only evil all the time.  \\n6The Lord was grieved that he had \\nmade man on the earth, and his heart \\nwas filled with pain.  \\n7So the Lord said, \"I will wipe mankind, \\nwhom I have created, from the face of \\nthe eart h-men and animals, and \\ncreatures that move along the ground, \\nand birds of the air -for I am grieved that \\nI have made them.\"  \\n8But Noah found favor in the eyes of the \\nLord .  \\n9This is the account of Noah. Noah was \\na righteous man, blameless among the \\npeople of his time, and he walked with \\nGod.  \\n10Noah had three sons: Shem, Ham and \\nJapheth.  \\n11Now the earth was corrupt in God\\'s \\nsight and was full of violence.  \\n12God saw how corrupt the earth had \\nbecome, for all the people on earth had \\ncorrupted their ways.  \\n13So God said to Noah, \"I am going to \\nput an end to all people, for the earth is \\nfilled with violence because of them. I \\nam surely going to destroy both them \\nand the earth.  \\n14So make yourself an ark of cypress \\nwood; make rooms in it and coat it with \\npitch inside and out.')]"
      ]
     },
     "execution_count": 3,
     "metadata": {},
     "output_type": "execute_result"
    }
   ],
   "source": [
    "# Get the first 10 docs\n",
    "docs[:10]"
   ]
  },
  {
   "cell_type": "code",
   "execution_count": 4,
   "id": "35dac359",
   "metadata": {},
   "outputs": [
    {
     "data": {
      "text/plain": [
       "1871"
      ]
     },
     "execution_count": 4,
     "metadata": {},
     "output_type": "execute_result"
    }
   ],
   "source": [
    "# find the number of total docs (i. e number of pages)\n",
    "len(docs)"
   ]
  },
  {
   "cell_type": "markdown",
   "id": "2cff8755",
   "metadata": {},
   "source": [
    "## Splitting Data"
   ]
  },
  {
   "cell_type": "code",
   "execution_count": 5,
   "id": "f5e42ced",
   "metadata": {},
   "outputs": [],
   "source": [
    "# Split the docs into chunks\n",
    "from langchain.text_splitter import RecursiveCharacterTextSplitter\n",
    "\n",
    "splitter = RecursiveCharacterTextSplitter(chunk_size=500, chunk_overlap=100)\n",
    "\n",
    "split_documents = splitter.split_documents(docs)"
   ]
  },
  {
   "cell_type": "code",
   "execution_count": 6,
   "id": "bf3cd082",
   "metadata": {},
   "outputs": [
    {
     "data": {
      "text/plain": [
       "[Document(metadata={'producer': '3-Heights(TM) PDF Optimization Shell 4.8.25.2 (http://www.pdf-tools.com)', 'creator': 'Microsoft® Word 2013', 'creationdate': '2018-06-28T21:57:28-07:00', 'title': 'Holy Bible - New International Version', 'author': 'Biiible', 'moddate': '2018-06-28T14:14:01+00:00', 'source': '../data/whole_bible_niv1984.pdf', 'total_pages': 1871, 'page': 0, 'page_label': '1'}, page_content='1 \\n \\n  \\nHoly Bible \\nNew International Version \\n \\n \\n \\n \\n \\n \\n \\n \\nAbout the New International Version –  \\nThe New International Version was undertaken by an independent \\ncommittee in after a general consensus that there was a need for a \\nnew, contemporary English translation of the Bible. \\n \\nWith the help of scholars from all over the world, and multiple reviews \\nfrom a committee of multiple denominations, the New International \\nVersion has earned the widespread respect of all Christians as one of'),\n",
       " Document(metadata={'producer': '3-Heights(TM) PDF Optimization Shell 4.8.25.2 (http://www.pdf-tools.com)', 'creator': 'Microsoft® Word 2013', 'creationdate': '2018-06-28T21:57:28-07:00', 'title': 'Holy Bible - New International Version', 'author': 'Biiible', 'moddate': '2018-06-28T14:14:01+00:00', 'source': '../data/whole_bible_niv1984.pdf', 'total_pages': 1871, 'page': 0, 'page_label': '1'}, page_content='Version has earned the widespread respect of all Christians as one of \\nthe best translations available.'),\n",
       " Document(metadata={'producer': '3-Heights(TM) PDF Optimization Shell 4.8.25.2 (http://www.pdf-tools.com)', 'creator': 'Microsoft® Word 2013', 'creationdate': '2018-06-28T21:57:28-07:00', 'title': 'Holy Bible - New International Version', 'author': 'Biiible', 'moddate': '2018-06-28T14:14:01+00:00', 'source': '../data/whole_bible_niv1984.pdf', 'total_pages': 1871, 'page': 1, 'page_label': '2'}, page_content='2 \\n \\nOld Testament \\nGenesis \\nExodus \\nLeviticus \\nNumbers \\nDeuteronomy \\nJoshua \\nJudges \\nRuth \\n1st Samuel \\n2nd Samuel \\n1st Kings \\n2nd Kings \\n1st Chronicles \\n2nd Chronicles \\nEzra \\nNehemiah \\nEsther \\nJob \\nPsalms \\nProverbs \\nEcclesiastes \\nSong of Solomon \\nIsaiah \\nJeremiah \\nLamentations \\nEzekiel \\nDaniel \\nHosea \\nJoel \\nAmos \\nObadiah \\nJonah \\nMicah \\nNahum \\nHabakkuk \\nZephaniah \\nHaggai \\nZechariah \\nMalachi \\nNew Testament \\nMatthew \\nMark \\nLuke \\nJohn \\nActs \\nRomans \\n1st Corinthians \\n2nd Corinthians \\nGalatians'),\n",
       " Document(metadata={'producer': '3-Heights(TM) PDF Optimization Shell 4.8.25.2 (http://www.pdf-tools.com)', 'creator': 'Microsoft® Word 2013', 'creationdate': '2018-06-28T21:57:28-07:00', 'title': 'Holy Bible - New International Version', 'author': 'Biiible', 'moddate': '2018-06-28T14:14:01+00:00', 'source': '../data/whole_bible_niv1984.pdf', 'total_pages': 1871, 'page': 1, 'page_label': '2'}, page_content='Matthew \\nMark \\nLuke \\nJohn \\nActs \\nRomans \\n1st Corinthians \\n2nd Corinthians \\nGalatians \\nEphesians \\nPhilippians \\nColossians \\n1st Thessalonians \\n2nd Thessalonians \\n1st Timothy \\n2nd Timothy \\nTitus \\nPhilemon \\nHebrews \\nJames \\n1st Peter \\n2nd Peter \\n1st John \\n2nd John \\n3rd John \\nJude \\nRevelation'),\n",
       " Document(metadata={'producer': '3-Heights(TM) PDF Optimization Shell 4.8.25.2 (http://www.pdf-tools.com)', 'creator': 'Microsoft® Word 2013', 'creationdate': '2018-06-28T21:57:28-07:00', 'title': 'Holy Bible - New International Version', 'author': 'Biiible', 'moddate': '2018-06-28T14:14:01+00:00', 'source': '../data/whole_bible_niv1984.pdf', 'total_pages': 1871, 'page': 2, 'page_label': '3'}, page_content='3 \\n \\nGenesis \\n1In the beginning God created the  \\nheavens and the earth.  \\n2Now the earth was formless and empty, \\ndarkness was ove r the surface of the \\ndeep, and the Spirit of God was \\nhovering over the waters.  \\n3And God said, \"Let there be light,\" and \\nthere was light.  \\n4God saw that the light was good, and \\nhe separated the light from the darkness.  \\n5God called the light \"day,\" and the  \\ndarkness he called \"night.\" And there \\nwas evening, and there was morning -\\nthe first day.'),\n",
       " Document(metadata={'producer': '3-Heights(TM) PDF Optimization Shell 4.8.25.2 (http://www.pdf-tools.com)', 'creator': 'Microsoft® Word 2013', 'creationdate': '2018-06-28T21:57:28-07:00', 'title': 'Holy Bible - New International Version', 'author': 'Biiible', 'moddate': '2018-06-28T14:14:01+00:00', 'source': '../data/whole_bible_niv1984.pdf', 'total_pages': 1871, 'page': 2, 'page_label': '3'}, page_content='darkness he called \"night.\" And there \\nwas evening, and there was morning -\\nthe first day.  \\n6And God said, \"Let there be an \\nexpanse between the waters to \\nseparate water from water.\"  \\n7So God made the expanse and \\nseparated the water under the expanse \\nfrom the water above it. And it was so.  \\n8God called the expanse \"sky.\" And \\nthere was evening, and there was \\nmorning-the second day.  \\n9And God said, \"Let the water under the \\nsky be gathered to one place, and let'),\n",
       " Document(metadata={'producer': '3-Heights(TM) PDF Optimization Shell 4.8.25.2 (http://www.pdf-tools.com)', 'creator': 'Microsoft® Word 2013', 'creationdate': '2018-06-28T21:57:28-07:00', 'title': 'Holy Bible - New International Version', 'author': 'Biiible', 'moddate': '2018-06-28T14:14:01+00:00', 'source': '../data/whole_bible_niv1984.pdf', 'total_pages': 1871, 'page': 2, 'page_label': '3'}, page_content='9And God said, \"Let the water under the \\nsky be gathered to one place, and let \\ndry ground appear.\" And it was so.  \\n10God called the  dry ground \"land,\" and \\nthe gathered waters he called \"seas.\" \\nAnd God saw that it was good.  \\n11Then God said, \"Let the land produce \\nvegetation: seed -bearing plants and \\ntrees on the land that bear fruit with \\nseed in it, according to their various \\nkinds.\" And it was so.  \\n12The land produced vegetation: plants \\nbearing seed according to their kinds'),\n",
       " Document(metadata={'producer': '3-Heights(TM) PDF Optimization Shell 4.8.25.2 (http://www.pdf-tools.com)', 'creator': 'Microsoft® Word 2013', 'creationdate': '2018-06-28T21:57:28-07:00', 'title': 'Holy Bible - New International Version', 'author': 'Biiible', 'moddate': '2018-06-28T14:14:01+00:00', 'source': '../data/whole_bible_niv1984.pdf', 'total_pages': 1871, 'page': 2, 'page_label': '3'}, page_content='12The land produced vegetation: plants \\nbearing seed according to their kinds \\nand trees bearing fruit with seed in it \\naccording to their kinds. And God saw \\nthat it was good.  \\n13And there was evening, and there was \\nmorning-the third day.  \\n14And God said, \"Let there be lights in \\nthe expanse of the sky to separate the \\nday from the night, and let them serve \\nas signs to mark seasons and days and \\nyears,  \\n15and let them be lights in the expanse \\nof the sky to give light on the earth.\" And'),\n",
       " Document(metadata={'producer': '3-Heights(TM) PDF Optimization Shell 4.8.25.2 (http://www.pdf-tools.com)', 'creator': 'Microsoft® Word 2013', 'creationdate': '2018-06-28T21:57:28-07:00', 'title': 'Holy Bible - New International Version', 'author': 'Biiible', 'moddate': '2018-06-28T14:14:01+00:00', 'source': '../data/whole_bible_niv1984.pdf', 'total_pages': 1871, 'page': 2, 'page_label': '3'}, page_content='years,  \\n15and let them be lights in the expanse \\nof the sky to give light on the earth.\" And \\nit was so.  \\n16God made two great lights -the greater \\nlight to govern the day and the lesser \\nlight to govern the night. He also made \\nthe stars.  \\n17God set them in the expanse of the \\nsky to give light on the earth,  \\n18to govern the day and the night, and to \\nseparate light  from darkness. And God \\nsaw that it was good.'),\n",
       " Document(metadata={'producer': '3-Heights(TM) PDF Optimization Shell 4.8.25.2 (http://www.pdf-tools.com)', 'creator': 'Microsoft® Word 2013', 'creationdate': '2018-06-28T21:57:28-07:00', 'title': 'Holy Bible - New International Version', 'author': 'Biiible', 'moddate': '2018-06-28T14:14:01+00:00', 'source': '../data/whole_bible_niv1984.pdf', 'total_pages': 1871, 'page': 3, 'page_label': '4'}, page_content='4 \\n \\n19And there was evening, and there was \\nmorning-the fourth day.  \\n20And God said, \"Let the water teem \\nwith living creatures, and let birds fly \\nabove the earth across the expanse of \\nthe sky.\"  \\n21So God created th e great creatures of \\nthe sea and every living and moving \\nthing with which the water teems, \\naccording to their kinds, and every \\nwinged bird according to its kind. And \\nGod saw that it was good.  \\n22God blessed them and said, \"Be \\nfruitful and increase in numbe r and fill')]"
      ]
     },
     "execution_count": 6,
     "metadata": {},
     "output_type": "execute_result"
    }
   ],
   "source": [
    "split_documents[:10]"
   ]
  },
  {
   "cell_type": "markdown",
   "id": "933bf4e4",
   "metadata": {},
   "source": [
    "## Creating Embeddings"
   ]
  },
  {
   "cell_type": "code",
   "execution_count": 7,
   "id": "32622408",
   "metadata": {},
   "outputs": [],
   "source": [
    "from  langchain_huggingface import HuggingFaceEmbeddings\n",
    "\n",
    "embeddings = HuggingFaceEmbeddings(model_name=\"sentence-transformers/all-MiniLM-L6-v2\")"
   ]
  },
  {
   "cell_type": "markdown",
   "id": "e6736170",
   "metadata": {},
   "source": [
    "## Creating vector stores"
   ]
  },
  {
   "cell_type": "code",
   "execution_count": 8,
   "id": "d4623bfd",
   "metadata": {},
   "outputs": [],
   "source": [
    "from langchain_chroma import Chroma\n",
    "\n",
    "vector_store = Chroma.from_documents(\n",
    "    documents=split_documents,\n",
    "    embedding=embeddings,\n",
    "    persist_directory=\"../bible_vectorstore\",\n",
    "    collection_name=\"kjv_vectorstore\")\n",
    "\n",
    "BATCH_SIZE = 5461  # must be <= 5461\n",
    "\n",
    "# processing in batches since its showing error when we batch the whole as one\n",
    "for i in range(0, len(split_documents), BATCH_SIZE):\n",
    "    batch = split_documents[i : i + BATCH_SIZE]\n",
    "    vector_store.add_documents(batch)\n"
   ]
  },
  {
   "cell_type": "code",
   "execution_count": 9,
   "id": "bf118967",
   "metadata": {},
   "outputs": [
    {
     "data": {
      "text/plain": [
       "[Document(id='5ce209ef-240e-4857-951c-61529d5f21e7', metadata={'author': 'Biiible', 'creator': 'Microsoft® Word 2013', 'moddate': '2018-06-28T14:14:01+00:00', 'total_pages': 1871, 'page_label': '39', 'creationdate': '2018-06-28T21:57:28-07:00', 'title': 'Holy Bible - New International Version', 'producer': '3-Heights(TM) PDF Optimization Shell 4.8.25.2 (http://www.pdf-tools.com)', 'source': '../data/whole_bible_niv1984.pdf', 'page': 38}, page_content=\"and thirty-seven years. He breathed his \\nlast and died, and he was gathered to \\nhis people.  \\n18His descendants settled in the area \\nfrom Havilah to Shur, near the border of \\nEgypt, as you go toward Asshur. And \\nthey lived in hostility toward all their \\nbrothers.  \\n19This is the account of Abraham's son \\nIsaac. Abraham became the father of \\nIsaac,  \\n20and Isaac was forty years old when he \\nmarried Rebekah daughter of Bethuel \\nthe Aramean from Paddan Aram and \\nsister of Laban the Aramean.\"),\n",
       " Document(id='7965c243-2573-43b4-8b25-32acf0c7264f', metadata={'moddate': '2018-06-28T14:14:01+00:00', 'author': 'Biiible', 'title': 'Holy Bible - New International Version', 'creator': 'Microsoft® Word 2013', 'total_pages': 1871, 'creationdate': '2018-06-28T21:57:28-07:00', 'page': 38, 'page_label': '39', 'producer': '3-Heights(TM) PDF Optimization Shell 4.8.25.2 (http://www.pdf-tools.com)', 'source': '../data/whole_bible_niv1984.pdf'}, page_content=\"and thirty-seven years. He breathed his \\nlast and died, and he was gathered to \\nhis people.  \\n18His descendants settled in the area \\nfrom Havilah to Shur, near the border of \\nEgypt, as you go toward Asshur. And \\nthey lived in hostility toward all their \\nbrothers.  \\n19This is the account of Abraham's son \\nIsaac. Abraham became the father of \\nIsaac,  \\n20and Isaac was forty years old when he \\nmarried Rebekah daughter of Bethuel \\nthe Aramean from Paddan Aram and \\nsister of Laban the Aramean.\"),\n",
       " Document(id='ec90d1c0-6654-4959-b150-b4ad9a2c32fe', metadata={'moddate': '2018-06-28T14:14:01+00:00', 'total_pages': 1871, 'creationdate': '2018-06-28T21:57:28-07:00', 'producer': '3-Heights(TM) PDF Optimization Shell 4.8.25.2 (http://www.pdf-tools.com)', 'page': 1680, 'author': 'Biiible', 'page_label': '1681', 'title': 'Holy Bible - New International Version', 'source': '../data/whole_bible_niv1984.pdf', 'creator': 'Microsoft® Word 2013'}, page_content='not only to those who are of the law but \\nalso to those wh o are of the faith of \\nAbraham. He is the father of us all.  \\n17As it is written: \"I have made you a \\nfather of many nations.\" He is our father \\nin the sight of God, in whom he \\nbelieved--the God who gives life to the'),\n",
       " Document(id='5d59c0e0-0f10-4a77-842c-c5880fb12855', metadata={'moddate': '2018-06-28T14:14:01+00:00', 'page_label': '1681', 'creator': 'Microsoft® Word 2013', 'page': 1680, 'total_pages': 1871, 'producer': '3-Heights(TM) PDF Optimization Shell 4.8.25.2 (http://www.pdf-tools.com)', 'author': 'Biiible', 'creationdate': '2018-06-28T21:57:28-07:00', 'title': 'Holy Bible - New International Version', 'source': '../data/whole_bible_niv1984.pdf'}, page_content='not only to those who are of the law but \\nalso to those wh o are of the faith of \\nAbraham. He is the father of us all.  \\n17As it is written: \"I have made you a \\nfather of many nations.\" He is our father \\nin the sight of God, in whom he \\nbelieved--the God who gives life to the')]"
      ]
     },
     "execution_count": 9,
     "metadata": {},
     "output_type": "execute_result"
    }
   ],
   "source": [
    "# Testing by querying \n",
    "vector_store.similarity_search(\"Who is the father of Abraham\")"
   ]
  }
 ],
 "metadata": {
  "kernelspec": {
   "display_name": "Python 3",
   "language": "python",
   "name": "python3"
  },
  "language_info": {
   "codemirror_mode": {
    "name": "ipython",
    "version": 3
   },
   "file_extension": ".py",
   "mimetype": "text/x-python",
   "name": "python",
   "nbconvert_exporter": "python",
   "pygments_lexer": "ipython3",
   "version": "3.12.0"
  }
 },
 "nbformat": 4,
 "nbformat_minor": 5
}
